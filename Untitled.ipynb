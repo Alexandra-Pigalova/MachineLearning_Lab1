{
 "cells": [
  {
   "cell_type": "markdown",
   "metadata": {},
   "source": [
    "## Пигалова Александра Александровна (КНиПр)"
   ]
  },
  {
   "cell_type": "markdown",
   "metadata": {},
   "source": [
    "Описание Данных: https://archive.ics.uci.edu/ml/datasets/Phishing+Websites"
   ]
  },
  {
   "cell_type": "code",
   "execution_count": 29,
   "metadata": {
    "collapsed": true
   },
   "outputs": [],
   "source": [
    "import numpy as np\n",
    "import matplotlib.pyplot as plt\n",
    "#import sklearn as sk\n",
    "import pandas as pd\n",
    "%matplotlib inline"
   ]
  },
  {
   "cell_type": "code",
   "execution_count": null,
   "metadata": {
    "collapsed": true
   },
   "outputs": [],
   "source": [
    "\n",
    "print(c_arr[test_err_AB == min_test_err_AB])"
   ]
  },
  {
   "cell_type": "code",
   "execution_count": 7,
   "metadata": {
    "collapsed": true
   },
   "outputs": [],
   "source": [
    "filename = './TrainingDataset.csv'\n",
    "data= pd.read_csv(filename, sep = ',', engine = 'python')"
   ]
  },
  {
   "cell_type": "markdown",
   "metadata": {},
   "source": [
    "Обрабатываем данные и подготавливаем X и y"
   ]
  },
  {
   "cell_type": "code",
   "execution_count": 8,
   "metadata": {},
   "outputs": [],
   "source": [
    "y = data['Result']\n",
    "data = data.drop('Result', axis=1)"
   ]
  },
  {
   "cell_type": "code",
   "execution_count": 9,
   "metadata": {
    "collapsed": true
   },
   "outputs": [],
   "source": [
    "X = data\n",
    "feature_names = X.columns"
   ]
  },
  {
   "cell_type": "code",
   "execution_count": 10,
   "metadata": {},
   "outputs": [
    {
     "name": "stdout",
     "output_type": "stream",
     "text": [
      "(11055, 30)\n",
      "(11055,)\n"
     ]
    }
   ],
   "source": [
    "print(X.shape)\n",
    "print(y.shape)"
   ]
  },
  {
   "cell_type": "code",
   "execution_count": 11,
   "metadata": {
    "collapsed": true
   },
   "outputs": [],
   "source": [
    "from sklearn import preprocessing\n",
    "le = preprocessing.LabelEncoder()\n",
    "le.fit(y.unique())\n",
    "y_tr = le.transform(y)"
   ]
  },
  {
   "cell_type": "markdown",
   "metadata": {},
   "source": [
    "## Principal Components Analysis (PCA)"
   ]
  },
  {
   "cell_type": "markdown",
   "metadata": {},
   "source": [
    "Метод главных компонент используется для уменьшения числа размерности исходных данных. Рассмотрим его применение к нашим данным. Изначально имеем 30 столбцов. Попробуем уменьшить размерность до 10"
   ]
  },
  {
   "cell_type": "code",
   "execution_count": 12,
   "metadata": {},
   "outputs": [
    {
     "data": {
      "text/plain": [
       "(11055, 10)"
      ]
     },
     "execution_count": 12,
     "metadata": {},
     "output_type": "execute_result"
    }
   ],
   "source": [
    "from sklearn.decomposition import PCA\n",
    "pca = PCA(n_components = 10)\n",
    "pca.fit(X)\n",
    "pca_x = pca.transform(X)\n",
    "pca_x.shape"
   ]
  },
  {
   "cell_type": "markdown",
   "metadata": {},
   "source": [
    "Разбиваем данные на тестовую и обучающую выборки"
   ]
  },
  {
   "cell_type": "code",
   "execution_count": 14,
   "metadata": {
    "collapsed": true
   },
   "outputs": [],
   "source": [
    "from sklearn.model_selection import train_test_split\n",
    "X_train, X_test, y_train, y_test = train_test_split(X, y_tr, test_size = 0.33, random_state = 7)"
   ]
  },
  {
   "cell_type": "markdown",
   "metadata": {},
   "source": [
    "Используем классификатор Gradient Boosted Trees с 30-ю деревьями"
   ]
  },
  {
   "cell_type": "code",
   "execution_count": 15,
   "metadata": {},
   "outputs": [
    {
     "name": "stdout",
     "output_type": "stream",
     "text": [
      "0.078449905482 0.0687859687586\n"
     ]
    }
   ],
   "source": [
    "from sklearn.ensemble import GradientBoostingClassifier\n",
    "\n",
    "GBT = GradientBoostingClassifier(n_estimators=30)\n",
    "GBT.fit(X_train, y_train)\n",
    "    \n",
    "y_train_pred = GBT.predict(X_train)\n",
    "y_test_pred = GBT.predict(X_test)\n",
    "     \n",
    "print(np.mean(y_train != y_train_pred), np.mean(y_test != y_test_pred))"
   ]
  },
  {
   "cell_type": "markdown",
   "metadata": {},
   "source": [
    "Исследуем зависимость ошибки от числа используемых компонент."
   ]
  },
  {
   "cell_type": "code",
   "execution_count": 18,
   "metadata": {
    "collapsed": true
   },
   "outputs": [],
   "source": [
    "c_arr = np.arange(2,30,1)"
   ]
  },
  {
   "cell_type": "markdown",
   "metadata": {},
   "source": [
    "Построим график зависимости"
   ]
  },
  {
   "cell_type": "code",
   "execution_count": 19,
   "metadata": {},
   "outputs": [],
   "source": [
    "test_err_GBT = []\n",
    "train_err_GBT = []\n",
    "\n",
    "for c in c_arr:\n",
    "    pca = PCA(n_components = c)\n",
    "    pca.fit(X)\n",
    "    X_pca = pca.transform(X)\n",
    "    \n",
    "    X_train, X_test, y_train, y_test = train_test_split(X_pca, y_tr, test_size = 0.33, random_state = 7)\n",
    "    \n",
    "    GBT = GradientBoostingClassifier(n_estimators=30)\n",
    "    GBT.fit(X_train, y_train)\n",
    "    \n",
    "    y_train_pred = GBT.predict(X_train)\n",
    "    y_test_pred = GBT.predict(X_test)\n",
    "    \n",
    "    train_err_GBT.append(np.mean(y_train != y_train_pred))\n",
    "    test_err_GBT.append(np.mean(y_test != y_test_pred))"
   ]
  },
  {
   "cell_type": "code",
   "execution_count": 20,
   "metadata": {},
   "outputs": [
    {
     "name": "stdout",
     "output_type": "stream",
     "text": [
      "0.0833108290575 0.0794738284461\n"
     ]
    }
   ],
   "source": [
    "print(np.mean(y_train != y_train_pred), np.mean(y_test != y_test_pred))"
   ]
  },
  {
   "cell_type": "code",
   "execution_count": 21,
   "metadata": {},
   "outputs": [
    {
     "data": {
      "image/png": "[encoded data removed]",
      "text/plain": [
       "<matplotlib.figure.Figure at 0x239d46decc0>"
      ]
     },
     "metadata": {},
     "output_type": "display_data"
    }
   ],
   "source": [
    "\n",
    "plt.plot(c_arr, train_err_GBT, 'b-o', label = 'train')\n",
    "plt.plot(c_arr, test_err_GBT, 'r-o', label = 'test')\n",
    "\n",
    "plt.title('Error vs. count of components')\n",
    "plt.xlabel('count of components')\n",
    "plt.ylabel('error')\n",
    "plt.legend()\n",
    "pass"
   ]
  },
  {
   "cell_type": "markdown",
   "metadata": {},
   "source": [
    "Минимальные значения ошибок на обучающей и тестовой выборке"
   ]
  },
  {
   "cell_type": "code",
   "execution_count": 22,
   "metadata": {},
   "outputs": [
    {
     "name": "stdout",
     "output_type": "stream",
     "text": [
      "0.0833108290575 0.0791997807619\n"
     ]
    }
   ],
   "source": [
    "min_train_err = np.min(train_err_GBT)\n",
    "min_test_err_GBT = np.min(test_err_GBT)\n",
    "print(min_train_err, min_test_err_GBT)"
   ]
  },
  {
   "cell_type": "markdown",
   "metadata": {},
   "source": [
    "Наилучшее число используемых компонент"
   ]
  },
  {
   "cell_type": "code",
   "execution_count": 23,
   "metadata": {},
   "outputs": [
    {
     "name": "stdout",
     "output_type": "stream",
     "text": [
      "[20]\n"
     ]
    }
   ],
   "source": [
    "print(c_arr[test_err_GBT == min_test_err_GBT])"
   ]
  },
  {
   "cell_type": "markdown",
   "metadata": {},
   "source": [
    "Исследуем зависимость ошибки от числа используемых компонент с использованием классификатора AdaBoost с 20-ю деревьями"
   ]
  },
  {
   "cell_type": "code",
   "execution_count": 44,
   "metadata": {
    "collapsed": true
   },
   "outputs": [],
   "source": [
    "from sklearn.ensemble import AdaBoostClassifier\n",
    "\n",
    "test_err_AB = []\n",
    "train_err_AB = []\n",
    "oob_err_AB = []\n",
    "\n",
    "for c in c_arr:\n",
    "    pca = PCA(n_components = c)\n",
    "    pca.fit(X)\n",
    "    X_pca = pca.transform(X)\n",
    "    \n",
    "    X_train, X_test, y_train, y_test = train_test_split(X_pca, y_tr, test_size = 0.33, random_state = 7)\n",
    "    \n",
    "    AB = AdaBoostClassifier(n_estimators = 20)\n",
    "    AB.fit(X_train, y_train)\n",
    "    \n",
    "    y_train_pred = AB.predict(X_train)\n",
    "    y_test_pred = AB.predict(X_test)\n",
    "    \n",
    "    train_err_AB.append(np.mean(y_train != y_train_pred))\n",
    "    test_err_AB.append(np.mean(y_test != y_test_pred))"
   ]
  },
  {
   "cell_type": "code",
   "execution_count": 45,
   "metadata": {},
   "outputs": [
    {
     "name": "stdout",
     "output_type": "stream",
     "text": [
      "0.0918174453146 0.0923540696081\n"
     ]
    }
   ],
   "source": [
    "print(np.mean(y_train != y_train_pred), np.mean(y_test != y_test_pred))"
   ]
  },
  {
   "cell_type": "code",
   "execution_count": 46,
   "metadata": {},
   "outputs": [
    {
     "data": {
      "image/png": "[encoded data removed]",
      "text/plain": [
       "<matplotlib.figure.Figure at 0x239d4e96588>"
      ]
     },
     "metadata": {},
     "output_type": "display_data"
    }
   ],
   "source": [
    "plt.plot(c_arr, train_err_AB, 'b-o', label = 'train')\n",
    "plt.plot(c_arr, test_err_AB, 'r-o', label = 'test')\n",
    "plt.title('Error vs. count of components')\n",
    "plt.xlabel('count of components')\n",
    "plt.ylabel('error')\n",
    "plt.legend()\n",
    "pass"
   ]
  },
  {
   "cell_type": "markdown",
   "metadata": {},
   "source": [
    "Минимальные значения ошибок на обучающей и тестовой выборке"
   ]
  },
  {
   "cell_type": "code",
   "execution_count": 47,
   "metadata": {},
   "outputs": [
    {
     "name": "stdout",
     "output_type": "stream",
     "text": [
      "0.0887118552525 0.0844066867635\n"
     ]
    }
   ],
   "source": [
    "min_train_err = np.min(train_err_AB)\n",
    "min_test_err_AB = np.min(test_err_AB)\n",
    "print(min_train_err, min_test_err_AB)"
   ]
  },
  {
   "cell_type": "markdown",
   "metadata": {},
   "source": [
    "\n",
    "Наилучшее число используемых компонент:"
   ]
  },
  {
   "cell_type": "code",
   "execution_count": 48,
   "metadata": {},
   "outputs": [
    {
     "name": "stdout",
     "output_type": "stream",
     "text": [
      "[20 21 22]\n"
     ]
    }
   ],
   "source": [
    "\n",
    "print(c_arr[test_err_AB == min_test_err_AB])"
   ]
  },
  {
   "cell_type": "code",
   "execution_count": null,
   "metadata": {
    "collapsed": true
   },
   "outputs": [],
   "source": []
  }
 ],
 "metadata": {
  "kernelspec": {
   "display_name": "Python 3",
   "language": "python",
   "name": "python3"
  },
  "language_info": {
   "codemirror_mode": {
    "name": "ipython",
    "version": 3
   },
   "file_extension": ".py",
   "mimetype": "text/x-python",
   "name": "python",
   "nbconvert_exporter": "python",
   "pygments_lexer": "ipython3",
   "version": "3.6.2"
  }
 },
 "nbformat": 4,
 "nbformat_minor": 2
}
